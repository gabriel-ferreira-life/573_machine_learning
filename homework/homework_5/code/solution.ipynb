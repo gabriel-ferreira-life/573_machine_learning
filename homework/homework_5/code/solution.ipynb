{
 "cells": [
  {
   "cell_type": "code",
   "execution_count": 2,
   "metadata": {},
   "outputs": [],
   "source": [
    "import argparse\n",
    "import torch\n",
    "import torch.nn as nn\n",
    "import torch.nn.functional as F"
   ]
  },
  {
   "cell_type": "code",
   "execution_count": 3,
   "metadata": {},
   "outputs": [],
   "source": [
    "def get_args():\n",
    "    parser = argparse.ArgumentParser(description='Args for training networks')\n",
    "    parser.add_argument('-seed', type=int, default=1, help='random seed')\n",
    "    parser.add_argument('-num_epochs', type=int, default=20, help='num epochs')\n",
    "    parser.add_argument('-batch', type=int, default=16, help='batch size')\n",
    "    parser.add_argument('-lr', type=float, default=0.01, help='learning rate')\n",
    "    parser.add_argument('-drop', type=float, default=0.3, help='drop rate')\n",
    "    args, _ = parser.parse_known_args()\n",
    "    return args\n",
    "\n",
    "\n",
    "class LeNet(nn.Module):\n",
    "    def __init__(self, args):\n",
    "        super(LeNet, self).__init__()\n",
    "        ### YOUR CODE HERE\n",
    "\n",
    "        # Convolution Layers\n",
    "        self.C1 = nn.Conv2d(3, 6, kernel_size=5)\n",
    "        self.MaxP = nn.MaxPool2d(kernel_size=2, stride=2)\n",
    "        self.C2 = nn.Conv2d(6, 16, kernel_size=5)\n",
    "        self.BN_C1 = nn.BatchNorm2d(6)\n",
    "        self.BN_C2 = nn.BatchNorm2d(16)\n",
    "\n",
    "        # Fully Connected Layers\n",
    "        self.FC1 = nn.Linear(16*5*5, 120)\n",
    "        self.FC2 = nn.Linear(120, 84)\n",
    "        self.FC3 = nn.Linear(84, 10)\n",
    "        ### END YOUR CODE\n",
    "\n",
    "    def forward(self, x):\n",
    "        '''\n",
    "        Input x: a batch of images (batch size x 3 x 32 x 32)\n",
    "        Return the predictions of each image (batch size x 10)\n",
    "        '''\n",
    "        ### YOUR CODE HERE\n",
    "        x = F.relu(self.C1(x)) # convolution + ReLU\n",
    "        x = self.MaxP(x) # max pooling\n",
    "        # x = self.BN_C1(x) # batch normalization\n",
    "        \n",
    "        x = F.relu(self.C2(x)) # convolution + ReLU\n",
    "        x = self.MaxP(x) # max pooling\n",
    "        # x = self.BN_C2(x) # batch normalization\n",
    "\n",
    "\n",
    "        x = x.view(-1, 16*5*5) # flatten the tensor\n",
    "\n",
    "        x = F.relu(self.FC1(x)) # fully connected layer + ReLU\n",
    "        x = F.relu(self.FC2(x)) # fully connected layer + ReLU\n",
    "        x = self.FC3(x) # output layer\n",
    "\n",
    "        return x\n",
    "        ### END YOUR CODE"
   ]
  },
  {
   "cell_type": "code",
   "execution_count": 4,
   "metadata": {},
   "outputs": [
    {
     "name": "stdout",
     "output_type": "stream",
     "text": [
      "Files already downloaded and verified\n",
      "Files already downloaded and verified\n"
     ]
    },
    {
     "name": "stderr",
     "output_type": "stream",
     "text": [
      "Epoch 0: 100%|██████████| 3125/3125 [00:37<00:00, 82.56b/s] \n"
     ]
    },
    {
     "name": "stdout",
     "output_type": "stream",
     "text": [
      "Epoch 0 training loss: 2.077 training accuracy: 22.910%\n"
     ]
    },
    {
     "name": "stderr",
     "output_type": "stream",
     "text": [
      "Epoch 1: 100%|██████████| 3125/3125 [00:37<00:00, 83.86b/s] \n"
     ]
    },
    {
     "name": "stdout",
     "output_type": "stream",
     "text": [
      "Epoch 1 training loss: 1.603 training accuracy: 41.230%\n"
     ]
    },
    {
     "name": "stderr",
     "output_type": "stream",
     "text": [
      "Epoch 2: 100%|██████████| 3125/3125 [00:39<00:00, 78.78b/s] \n"
     ]
    },
    {
     "name": "stdout",
     "output_type": "stream",
     "text": [
      "Epoch 2 training loss: 1.419 training accuracy: 48.686%\n"
     ]
    },
    {
     "name": "stderr",
     "output_type": "stream",
     "text": [
      "Epoch 3: 100%|██████████| 3125/3125 [00:36<00:00, 85.26b/s] \n"
     ]
    },
    {
     "name": "stdout",
     "output_type": "stream",
     "text": [
      "Epoch 3 training loss: 1.304 training accuracy: 53.400%\n"
     ]
    },
    {
     "name": "stderr",
     "output_type": "stream",
     "text": [
      "Epoch 4: 100%|██████████| 3125/3125 [00:36<00:00, 86.36b/s] \n"
     ]
    },
    {
     "name": "stdout",
     "output_type": "stream",
     "text": [
      "Epoch 4 training loss: 1.216 training accuracy: 57.152%\n"
     ]
    },
    {
     "name": "stderr",
     "output_type": "stream",
     "text": [
      "Epoch 5: 100%|██████████| 3125/3125 [00:36<00:00, 86.61b/s] \n"
     ]
    },
    {
     "name": "stdout",
     "output_type": "stream",
     "text": [
      "Epoch 5 training loss: 1.146 training accuracy: 59.640%\n"
     ]
    },
    {
     "name": "stderr",
     "output_type": "stream",
     "text": [
      "Epoch 6: 100%|██████████| 3125/3125 [00:36<00:00, 85.14b/s] \n"
     ]
    },
    {
     "name": "stdout",
     "output_type": "stream",
     "text": [
      "Epoch 6 training loss: 1.093 training accuracy: 61.654%\n"
     ]
    },
    {
     "name": "stderr",
     "output_type": "stream",
     "text": [
      "Epoch 7: 100%|██████████| 3125/3125 [00:39<00:00, 79.72b/s] \n"
     ]
    },
    {
     "name": "stdout",
     "output_type": "stream",
     "text": [
      "Epoch 7 training loss: 1.041 training accuracy: 63.468%\n"
     ]
    },
    {
     "name": "stderr",
     "output_type": "stream",
     "text": [
      "Epoch 8: 100%|██████████| 3125/3125 [00:35<00:00, 87.15b/s] \n"
     ]
    },
    {
     "name": "stdout",
     "output_type": "stream",
     "text": [
      "Epoch 8 training loss: 1.002 training accuracy: 65.020%\n"
     ]
    },
    {
     "name": "stderr",
     "output_type": "stream",
     "text": [
      "Epoch 9: 100%|██████████| 3125/3125 [00:36<00:00, 84.52b/s] \n"
     ]
    },
    {
     "name": "stdout",
     "output_type": "stream",
     "text": [
      "Epoch 9 training loss: 0.959 training accuracy: 66.472%\n"
     ]
    },
    {
     "name": "stderr",
     "output_type": "stream",
     "text": [
      "Epoch 10: 100%|██████████| 3125/3125 [00:37<00:00, 84.23b/s] \n"
     ]
    },
    {
     "name": "stdout",
     "output_type": "stream",
     "text": [
      "Epoch 10 training loss: 0.926 training accuracy: 67.632%\n"
     ]
    },
    {
     "name": "stderr",
     "output_type": "stream",
     "text": [
      "Epoch 11: 100%|██████████| 3125/3125 [00:39<00:00, 78.75b/s] \n"
     ]
    },
    {
     "name": "stdout",
     "output_type": "stream",
     "text": [
      "Epoch 11 training loss: 0.889 training accuracy: 68.766%\n"
     ]
    },
    {
     "name": "stderr",
     "output_type": "stream",
     "text": [
      "Epoch 12: 100%|██████████| 3125/3125 [00:39<00:00, 79.56b/s] \n"
     ]
    },
    {
     "name": "stdout",
     "output_type": "stream",
     "text": [
      "Epoch 12 training loss: 0.855 training accuracy: 70.056%\n"
     ]
    },
    {
     "name": "stderr",
     "output_type": "stream",
     "text": [
      "Epoch 13: 100%|██████████| 3125/3125 [00:39<00:00, 79.83b/s] \n"
     ]
    },
    {
     "name": "stdout",
     "output_type": "stream",
     "text": [
      "Epoch 13 training loss: 0.826 training accuracy: 70.972%\n"
     ]
    },
    {
     "name": "stderr",
     "output_type": "stream",
     "text": [
      "Epoch 14: 100%|██████████| 3125/3125 [00:39<00:00, 79.37b/s] \n"
     ]
    },
    {
     "name": "stdout",
     "output_type": "stream",
     "text": [
      "Epoch 14 training loss: 0.797 training accuracy: 71.858%\n"
     ]
    },
    {
     "name": "stderr",
     "output_type": "stream",
     "text": [
      "Epoch 15: 100%|██████████| 3125/3125 [00:40<00:00, 77.51b/s] \n"
     ]
    },
    {
     "name": "stdout",
     "output_type": "stream",
     "text": [
      "Epoch 15 training loss: 0.767 training accuracy: 72.846%\n"
     ]
    },
    {
     "name": "stderr",
     "output_type": "stream",
     "text": [
      "Epoch 16: 100%|██████████| 3125/3125 [00:36<00:00, 85.40b/s] \n"
     ]
    },
    {
     "name": "stdout",
     "output_type": "stream",
     "text": [
      "Epoch 16 training loss: 0.743 training accuracy: 73.806%\n"
     ]
    },
    {
     "name": "stderr",
     "output_type": "stream",
     "text": [
      "Epoch 17: 100%|██████████| 3125/3125 [00:35<00:00, 87.27b/s] \n"
     ]
    },
    {
     "name": "stdout",
     "output_type": "stream",
     "text": [
      "Epoch 17 training loss: 0.715 training accuracy: 74.922%\n"
     ]
    },
    {
     "name": "stderr",
     "output_type": "stream",
     "text": [
      "Epoch 18: 100%|██████████| 3125/3125 [00:36<00:00, 86.68b/s] \n"
     ]
    },
    {
     "name": "stdout",
     "output_type": "stream",
     "text": [
      "Epoch 18 training loss: 0.689 training accuracy: 75.740%\n"
     ]
    },
    {
     "name": "stderr",
     "output_type": "stream",
     "text": [
      "Epoch 19: 100%|██████████| 3125/3125 [00:41<00:00, 75.75b/s] \n"
     ]
    },
    {
     "name": "stdout",
     "output_type": "stream",
     "text": [
      "Epoch 19 training loss: 0.665 training accuracy: 76.518%\n"
     ]
    },
    {
     "name": "stderr",
     "output_type": "stream",
     "text": [
      "Test: 100%|██████████| 625/625 [00:18<00:00, 33.05b/s] "
     ]
    },
    {
     "name": "stdout",
     "output_type": "stream",
     "text": [
      "Accuracy of the network on the 10000 test set: 64.70%\n"
     ]
    },
    {
     "name": "stderr",
     "output_type": "stream",
     "text": [
      "\n"
     ]
    }
   ],
   "source": [
    "from helper import set_random, load_data, train, test\n",
    "\n",
    "args = get_args()\n",
    "set_random(args.seed)\n",
    "trainloader, testloader = load_data(args.batch)\n",
    "net = LeNet(args)\n",
    "train(net, trainloader, args.num_epochs)\n",
    "test(net, testloader)"
   ]
  },
  {
   "cell_type": "code",
   "execution_count": null,
   "metadata": {},
   "outputs": [],
   "source": []
  }
 ],
 "metadata": {
  "kernelspec": {
   "display_name": "base",
   "language": "python",
   "name": "python3"
  },
  "language_info": {
   "codemirror_mode": {
    "name": "ipython",
    "version": 3
   },
   "file_extension": ".py",
   "mimetype": "text/x-python",
   "name": "python",
   "nbconvert_exporter": "python",
   "pygments_lexer": "ipython3",
   "version": "3.8.16"
  }
 },
 "nbformat": 4,
 "nbformat_minor": 2
}
