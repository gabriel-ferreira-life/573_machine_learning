{
 "cells": [
  {
   "cell_type": "markdown",
   "metadata": {},
   "source": [
    "### Import Libraries"
   ]
  },
  {
   "cell_type": "code",
   "execution_count": 1,
   "metadata": {},
   "outputs": [],
   "source": [
    "from helper import *\n",
    "from main import *\n",
    "import pandas as pd\n",
    "from sklearn.svm import SVC\n",
    "from sklearn import svm"
   ]
  },
  {
   "cell_type": "markdown",
   "metadata": {},
   "source": [
    "### Config"
   ]
  },
  {
   "cell_type": "code",
   "execution_count": 2,
   "metadata": {},
   "outputs": [],
   "source": [
    "# Data path\n",
    "data_path = '/Users/gabrielvictorgomesferreira/Library/Mobile Documents/com~apple~CloudDocs/Work/ISU Classes/COMS 573 - Machine Learning/data/data_hw2/'\n",
    "train_file = 'train.txt'\n",
    "test_file = 'test.txt'"
   ]
  },
  {
   "cell_type": "markdown",
   "metadata": {},
   "source": [
    "### Load, Extract two-dimensional feature (symmetry and average intensity) and Split DFs"
   ]
  },
  {
   "cell_type": "code",
   "execution_count": 3,
   "metadata": {},
   "outputs": [
    {
     "name": "stdout",
     "output_type": "stream",
     "text": [
      "(1561, 2) (1561,)\n",
      "(424, 2) (424,)\n"
     ]
    }
   ],
   "source": [
    "X_train, y_train = load_features(data_path + train_file)\n",
    "X_test, y_test = load_features(data_path + test_file)\n",
    "\n",
    "print(X_train.shape, y_train.shape)\n",
    "print(X_test.shape, y_test.shape)"
   ]
  },
  {
   "cell_type": "code",
   "execution_count": 4,
   "metadata": {},
   "outputs": [],
   "source": [
    "def svm_with_diff_c(train_label, train_data, test_label, test_data):\n",
    "    '''\n",
    "    Use different value of cost c to train a svm model. Then apply the trained model\n",
    "    on testing label and data.\n",
    "    \n",
    "    The value of cost c you need to try is listing as follow:\n",
    "    c = [0.01, 0.1, 1, 2, 3, 5]\n",
    "    Please set kernel to 'linear' and keep other parameter options as default.\n",
    "    No return value is needed\n",
    "    ''' \n",
    "\n",
    "    ### YOUR CODE HERE\n",
    "    print(f\"{'-'*95}\")\n",
    "    print(\"Using different value of cost c to train a svm model. Then apply the trained model on testing label and data.\")\n",
    "    print(\"\")\n",
    "    # List of Cs to try\n",
    "    c_values = [0.01, 0.1, 1, 5, 10]\n",
    "    \n",
    "    # Loop through each value of C and train an SVM model\n",
    "    for c in c_values:\n",
    "\n",
    "        # Build SVM model with linear kernel and cost parameter C\n",
    "        model = svm.SVC(C=c, kernel='linear')\n",
    "        \n",
    "        # Train the model\n",
    "        model.fit(train_data, train_label)\n",
    "        \n",
    "        # Calculate accuracy on the test data\n",
    "        accuracy = model.score(test_data, test_label)\n",
    "        \n",
    "        # Get the number of support vectors\n",
    "        num_support_vectors = len(model.support_)\n",
    "        \n",
    "        # Print the results\n",
    "        print(f\"C={c} | Accuracy={accuracy:.4f} | Support Vectors={num_support_vectors}\")\n",
    "        print(\"\")\n",
    "\n",
    "    print(f\"{'-'*95}\")\n",
    "    print(\" \")\n",
    "\n",
    "    ### END YOUR CODE\n",
    "    \n",
    "\n",
    "def svm_with_diff_kernel(train_label, train_data, test_label, test_data):\n",
    "    '''\n",
    "    Use different kernel to train a svm model. Then apply the trained model\n",
    "    on testing label and data.\n",
    "    \n",
    "    The kernel you need to try is listing as follow:\n",
    "    'linear': linear kernel\n",
    "    'poly': polynomial kernel\n",
    "    'rbf': radial basis function kernel\n",
    "    Please keep other parameter options as default.\n",
    "    No return value is needed\n",
    "    '''\n",
    "\n",
    "    ### YOUR CODE HERE\n",
    "    print(f\"{'-'*95}\")\n",
    "    print(\"Using different kernel funcitons to train a svm model. Then apply the trained model on testing label and data.\")\n",
    "    print(\"\")\n",
    "    # List of kernels to try\n",
    "    kernels = ['linear', 'poly', 'rbf']\n",
    "    \n",
    "    # Loop through each kernel type and train an SVM model\n",
    "    for kernel in kernels:\n",
    "\n",
    "        # Create the SVM model with the specified kernel\n",
    "        model = svm.SVC(kernel=kernel)\n",
    "        \n",
    "        # Train the model\n",
    "        model.fit(train_data, train_label)\n",
    "        \n",
    "        # Calculate accuracy on the test data\n",
    "        accuracy = model.score(test_data, test_label)\n",
    "        \n",
    "        # Get the number of support vectors\n",
    "        num_support_vectors = len(model.support_)\n",
    "        \n",
    "        # Print the results\n",
    "        print(f\"Kernel={kernel} | Accuracy={accuracy:.4f} | Support Vectors={num_support_vectors}\")\n",
    "        print(\"\")\n",
    "    print(f\"{'-'*95}\")\n",
    "    ### END YOUR CODE"
   ]
  },
  {
   "cell_type": "code",
   "execution_count": 5,
   "metadata": {},
   "outputs": [
    {
     "name": "stdout",
     "output_type": "stream",
     "text": [
      "-----------------------------------------------------------------------------------------------\n",
      "Using different value of cost c to train a svm model. Then apply the trained model on testing label and data.\n",
      "\n",
      "C=0.01 | Accuracy=0.8939 | Support Vectors=1080\n",
      "\n",
      "C=0.1 | Accuracy=0.9623 | Support Vectors=414\n",
      "\n",
      "C=1 | Accuracy=0.9599 | Support Vectors=162\n",
      "\n",
      "C=5 | Accuracy=0.9623 | Support Vectors=104\n",
      "\n",
      "C=10 | Accuracy=0.9623 | Support Vectors=92\n",
      "\n",
      "-----------------------------------------------------------------------------------------------\n",
      " \n"
     ]
    }
   ],
   "source": [
    "svm_with_diff_c(y_train, X_train, y_test, X_test)"
   ]
  },
  {
   "cell_type": "markdown",
   "metadata": {},
   "source": [
    "* *C = 0.01:* Achieved an accuracy of 89.39% using 1080 support vectors, indicating underfitting due to the large margin.\n",
    "\n",
    "* *C = 0.1:* Accuracy significantly improved to 96.23% with 414 support vectors. This shows that increasing C reduces the margin width, resulting in better performance.\n",
    "\n",
    "* *C = 1:* Accuracy slightly decreased to 95.99%, with the number of support vectors dropping further to 162, indicating that the decision boundary is becoming more precise.\n",
    "\n",
    "* *C = 5:* Accuracy returned to 96.23% using only 104 support vectors, demonstrating that the model is reaching optimal performance with less support vectors as C increases.\n",
    "\n",
    "* *C = 10:* Accuracy remained stable at 96.23% with 92 support vectors, suggesting that further increases in C have a minimal impact on performance, but lead to a titgh margin and with less support vectors."
   ]
  },
  {
   "cell_type": "code",
   "execution_count": 6,
   "metadata": {},
   "outputs": [
    {
     "name": "stdout",
     "output_type": "stream",
     "text": [
      "-----------------------------------------------------------------------------------------------\n",
      "Using different kernel funcitons to train a svm model. Then apply the trained model on testing label and data.\n",
      "\n",
      "Kernel=linear | Accuracy=0.9599 | Support Vectors=162\n",
      "\n",
      "Kernel=poly | Accuracy=0.9575 | Support Vectors=75\n",
      "\n",
      "Kernel=rbf | Accuracy=0.9623 | Support Vectors=90\n",
      "\n",
      "-----------------------------------------------------------------------------------------------\n"
     ]
    }
   ],
   "source": [
    "svm_with_diff_kernel(y_train, X_train, y_test, X_test)"
   ]
  },
  {
   "cell_type": "markdown",
   "metadata": {},
   "source": [
    "* *Linear Kernel:* Achieved an accuracy of 95.99% using 162 support vectors. The model performed well for linearly separable data but required a relatively high number of support vectors.\n",
    "\n",
    "* *Polynomial Kernel:* Accuracy slightly decreased to 95.75%, while the number of support vectors dropped significantly to 75.\n",
    "\n",
    "* *RBF Kernel:* Achieved the highest accuracy of 0.9623 with only 90 support vectors, indicating that the RBF kernel effectively handles non-linear boundaries with a good balance between accuracy and support vector count."
   ]
  }
 ],
 "metadata": {
  "kernelspec": {
   "display_name": "base",
   "language": "python",
   "name": "python3"
  },
  "language_info": {
   "codemirror_mode": {
    "name": "ipython",
    "version": 3
   },
   "file_extension": ".py",
   "mimetype": "text/x-python",
   "name": "python",
   "nbconvert_exporter": "python",
   "pygments_lexer": "ipython3",
   "version": "3.8.16"
  }
 },
 "nbformat": 4,
 "nbformat_minor": 2
}
