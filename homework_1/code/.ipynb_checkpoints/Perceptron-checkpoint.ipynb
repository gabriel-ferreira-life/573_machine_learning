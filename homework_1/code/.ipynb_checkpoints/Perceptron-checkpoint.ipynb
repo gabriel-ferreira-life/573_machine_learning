{
 "cells": [
  {
   "cell_type": "code",
   "execution_count": 1,
   "id": "41e2edb7",
   "metadata": {},
   "outputs": [],
   "source": [
    "from matplotlib import pyplot as plt\n",
    "import numpy as np \n",
    "import math\n",
    "import matplotlib.pyplot as plt\n",
    "from helper import *\n",
    "from solution import *"
   ]
  },
  {
   "cell_type": "code",
   "execution_count": 2,
   "id": "3d150f35",
   "metadata": {},
   "outputs": [
    {
     "name": "stdout",
     "output_type": "stream",
     "text": [
      "Dataset shape:  (1561, 257)\n"
     ]
    }
   ],
   "source": [
    "dataloc = '/Users/gabrielvictorgomesferreira/artificial_intelligence/isu_classes/573_machine_learning/homework_1/data/train.txt'\n",
    "train_df = load_data(dataloc)\n",
    "print(\"Dataset shape: \", train_df.shape)"
   ]
  },
  {
   "cell_type": "code",
   "execution_count": 3,
   "id": "8dc3939a",
   "metadata": {},
   "outputs": [
    {
     "name": "stdout",
     "output_type": "stream",
     "text": [
      "Dataset shape:  (424, 257)\n"
     ]
    }
   ],
   "source": [
    "dataloc = '/Users/gabrielvictorgomesferreira/artificial_intelligence/isu_classes/573_machine_learning/homework_1/data/test.txt'\n",
    "test_df = load_data(dataloc)\n",
    "print(\"Dataset shape: \", test_df.shape)"
   ]
  },
  {
   "cell_type": "code",
   "execution_count": 81,
   "id": "b7f7317b",
   "metadata": {},
   "outputs": [],
   "source": [
    "def get_X_y(df):\n",
    "    observations_range = df[:].shape[0]\n",
    "\n",
    "    label = []\n",
    "    sys = []\n",
    "    intense = []\n",
    "\n",
    "    for i in range(observations_range):\n",
    "\n",
    "        input_extract_features = df[:, 1:][i]\n",
    "        sys_intense = extract_feature(input_extract_features)\n",
    "\n",
    "        sys_temp = sys_intense[0]\n",
    "        intense_temp = sys_intense[1]\n",
    "        label_temp = df[:,0][i]\n",
    "\n",
    "        sys.append(sys_temp)\n",
    "        intense.append(intense_temp)\n",
    "        label.append(label_temp)\n",
    "        \n",
    "        X = np.column_stack((sys, intense))\n",
    "        y = np.array(label)\n",
    "        \n",
    "    return X, y"
   ]
  },
  {
   "cell_type": "code",
   "execution_count": 82,
   "id": "e84a7f44",
   "metadata": {},
   "outputs": [],
   "source": [
    "X_train, y_train = get_X_y(train_df)\n",
    "X_test, y_test = get_X_y(test_df)"
   ]
  },
  {
   "cell_type": "code",
   "execution_count": 83,
   "id": "a88d3f48",
   "metadata": {},
   "outputs": [
    {
     "data": {
      "text/plain": [
       "(1561,)"
      ]
     },
     "execution_count": 83,
     "metadata": {},
     "output_type": "execute_result"
    }
   ],
   "source": [
    "y_train.shape"
   ]
  },
  {
   "cell_type": "code",
   "execution_count": 84,
   "id": "ed90a956",
   "metadata": {},
   "outputs": [
    {
     "data": {
      "text/plain": [
       "array([-1,  1,  1, ...,  1,  1,  1])"
      ]
     },
     "execution_count": 84,
     "metadata": {},
     "output_type": "execute_result"
    }
   ],
   "source": [
    "y_train = np.where(y_train == 5, -1, 1)\n",
    "y_train"
   ]
  },
  {
   "cell_type": "code",
   "execution_count": 85,
   "id": "53d4cb7c",
   "metadata": {},
   "outputs": [
    {
     "data": {
      "text/plain": [
       "array([[-0.53372656, -0.11173828],\n",
       "       [-0.1174375 , -0.75391406],\n",
       "       [-0.16229688, -0.77228125],\n",
       "       ...,\n",
       "       [-0.21638281, -0.60979297],\n",
       "       [-0.09282031, -0.66230859],\n",
       "       [-0.13085156, -0.44755859]])"
      ]
     },
     "execution_count": 85,
     "metadata": {},
     "output_type": "execute_result"
    }
   ],
   "source": [
    "X_train"
   ]
  },
  {
   "cell_type": "code",
   "execution_count": 86,
   "id": "0bafaad5",
   "metadata": {},
   "outputs": [
    {
     "data": {
      "text/plain": [
       "2"
      ]
     },
     "execution_count": 86,
     "metadata": {},
     "output_type": "execute_result"
    }
   ],
   "source": [
    "X_test.shape[1]\n",
    "\n"
   ]
  },
  {
   "cell_type": "code",
   "execution_count": 87,
   "id": "cb14030b",
   "metadata": {},
   "outputs": [
    {
     "data": {
      "text/plain": [
       "(424, 3)"
      ]
     },
     "execution_count": 87,
     "metadata": {},
     "output_type": "execute_result"
    }
   ],
   "source": [
    "np.insert(X_test, 0, 1, axis=1).shape"
   ]
  },
  {
   "cell_type": "code",
   "execution_count": 121,
   "id": "f25ae0cf",
   "metadata": {},
   "outputs": [],
   "source": [
    "class Perceptron(object):\n",
    "    \n",
    "    def __init__(self, max_iter):\n",
    "        self.max_iter = max_iter\n",
    "        self.W = None \n",
    "\n",
    "    def fit(self, X, y):\n",
    "        \"\"\"Train perceptron model on data (X,y).\n",
    "\n",
    "        Args:\n",
    "            X: An array of shape [n_samples, n_features].\n",
    "            y: An array of shape [n_samples,]. Only contains 1 or -1.\n",
    "\n",
    "        Returns:\n",
    "            self: Returns an instance of self.\n",
    "        \"\"\"\n",
    "\n",
    "        # Parameters\n",
    "        max_iter = self.max_iter\n",
    "        self.W = np.zeros(X.shape[1] + 1)\n",
    "        \n",
    "        \n",
    "        for _ in range(max_iter):\n",
    "            \n",
    "#             print(self.W)\n",
    "            \n",
    "            for xi, target in zip(X, y):\n",
    "                \n",
    "                \n",
    "                xi = np.insert(xi, 0, 1)\n",
    "\n",
    "                prediction = np.dot(xi, self.W)\n",
    "                prediction_sign = np.where(prediction >= 0.0, 1, -1)\n",
    "    \n",
    "                self.W += (target - prediction_sign) * xi\n",
    "\n",
    "\n",
    "        # After implementation, assign your weights w to self as below:\n",
    "        # self.W = w\n",
    "        \n",
    "        return self\n",
    "    \n",
    "    \n",
    "    def predict(self, X):\n",
    "        \"\"\"Predict class labels for samples in X.\n",
    "\n",
    "        Args:\n",
    "            X: An array of shape [n_samples, n_features].\n",
    "\n",
    "        Returns:\n",
    "            preds: An array of shape [n_samples,]. Only contains 1 or -1.\n",
    "        \"\"\"\n",
    "\n",
    "        X = np.insert(X, 0, 1, axis=1)\n",
    "        # Compute the dot product and apply the sign function\n",
    "        prediction = np.where(np.dot(X, self.W) >= 0.0, 1, -1)\n",
    "\n",
    "        return prediction\n",
    "    \n",
    "    def get_params(self):\n",
    "        \"\"\"Get parameters for this perceptron model.\n",
    "\n",
    "        Returns:\n",
    "            W: An array of shape [n_features,].\n",
    "        \"\"\"\n",
    "        if self.W is None:\n",
    "            print(\"Run fit first!\")\n",
    "            sys.exit(-1)\n",
    "        return self.W\n",
    "    \n",
    "    def show_result(X, y, W):\n",
    "        \n",
    "        \"\"\"Plot the linear model after training. \n",
    "           You can call show_features with 'save' being False for convenience.\n",
    "\n",
    "        Args:\n",
    "            X: An array of shape [n_samples, 2].\n",
    "            y: An array of shape [n_samples,]. Only contains 1 or -1.\n",
    "            W: An array of shape [n_features,].\n",
    "\n",
    "        Returns:\n",
    "            Do not return any arguments. Save the plot to 'result.*' and include it\n",
    "            in your report.\n",
    "            \"\"\"\n",
    "    \n",
    "        # Creating a scatter plot\n",
    "        plt.figure(figsize=(8, 5))\n",
    "\n",
    "        for i in range(len(X)):\n",
    "            if y[i] == 1.0:\n",
    "                plt.scatter(X[i, 0], X[i, 1], c='r', marker='*', label='Label 1' if (i==0 or i==1) else \"\")\n",
    "\n",
    "            elif y[i] == -1.0:\n",
    "                plt.scatter(X[i, 0], X[i, 1], c='b', marker='+', label='Label 5' if (i==0 or i==1) else \"\")\n",
    "\n",
    "\n",
    "\n",
    "\n",
    "        # Plot the decision boundar\n",
    "        x1_values = X[:,0]\n",
    "        x2_values = - (W[1] / W[2]) * x1_values - (W[0] / W[2])\n",
    "        plt.plot(x1_values, x2_values, label='Decision Boundary')\n",
    "\n",
    "        # Set plot limits\n",
    "        plt.xlim(min(X[:, 0]), max(X[:, 0]))\n",
    "        plt.ylim(min(X[:, 1]), max(X[:, 1]))\n",
    "\n",
    "        # Adding labels and title\n",
    "        plt.xlabel('Sys')\n",
    "        plt.ylabel('Intense')\n",
    "        plt.title('Perceptron Results')\n",
    "        plt.legend()\n",
    "        plt.show()"
   ]
  },
  {
   "cell_type": "code",
   "execution_count": 129,
   "id": "be6fc9bd",
   "metadata": {},
   "outputs": [
    {
     "data": {
      "text/plain": [
       "<__main__.Perceptron at 0x7fd350ddba30>"
      ]
     },
     "execution_count": 129,
     "metadata": {},
     "output_type": "execute_result"
    }
   ],
   "source": [
    "perceptron = Perceptron(max_iter=500)\n",
    "perceptron.fit(X_train, y_train)"
   ]
  },
  {
   "cell_type": "code",
   "execution_count": 130,
   "id": "32fd098d",
   "metadata": {},
   "outputs": [
    {
     "data": {
      "text/plain": [
       "array([ 8.        , 23.61234375, -1.4261875 ])"
      ]
     },
     "execution_count": 130,
     "metadata": {},
     "output_type": "execute_result"
    }
   ],
   "source": [
    "# Get the weights from the Perceptron model\n",
    "W = perceptron.get_params()\n",
    "W"
   ]
  },
  {
   "cell_type": "code",
   "execution_count": 131,
   "id": "14504354",
   "metadata": {},
   "outputs": [
    {
     "data": {
      "image/png": "[encoded data removed]",
      "text/plain": [
       "<Figure size 800x500 with 1 Axes>"
      ]
     },
     "metadata": {},
     "output_type": "display_data"
    }
   ],
   "source": [
    "# Call the function with the training data and learned weights\n",
    "Perceptron.show_result(X_train, y_train, W)\n"
   ]
  },
  {
   "cell_type": "code",
   "execution_count": null,
   "id": "6b26f1f2",
   "metadata": {},
   "outputs": [],
   "source": []
  }
 ],
 "metadata": {
  "kernelspec": {
   "display_name": "Python 3 (ipykernel)",
   "language": "python",
   "name": "python3"
  },
  "language_info": {
   "codemirror_mode": {
    "name": "ipython",
    "version": 3
   },
   "file_extension": ".py",
   "mimetype": "text/x-python",
   "name": "python",
   "nbconvert_exporter": "python",
   "pygments_lexer": "ipython3",
   "version": "3.8.16"
  }
 },
 "nbformat": 4,
 "nbformat_minor": 5
}
